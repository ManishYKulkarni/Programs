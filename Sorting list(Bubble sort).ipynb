{
 "cells": [
  {
   "cell_type": "code",
   "execution_count": 1,
   "id": "e542dee7",
   "metadata": {},
   "outputs": [
    {
     "name": "stdout",
     "output_type": "stream",
     "text": [
      "Enter a how many number values:2\n",
      "Enter a number:23\n",
      "Enter a number:32\n",
      "Sorted list (ascending): [23, 32]\n"
     ]
    }
   ],
   "source": [
    "def sorting():\n",
    "    for j in range(len(my_list)-1):\n",
    "        for k in range(len(my_list)-i-1):\n",
    "            if my_list[k] > my_list[k + 1]:\n",
    "                my_list[k], my_list[k + 1] = my_list[k + 1], my_list[k]\n",
    "            print(my_list)    \n",
    "    \n",
    "    \n",
    "    \n",
    "    \n",
    "       \n",
    "my_list=[]\n",
    "\n",
    "n=int(input(\"Enter a how many number values:\"))\n",
    "\n",
    "for i in range(n):\n",
    "    num=int(input(\"Enter a number:\"))\n",
    "    my_list.append(num)\n",
    "    sorting()\n",
    "print(\"Sorted list (ascending):\", my_list)    \n",
    "    \n",
    "    \n",
    "\n",
    "    "
   ]
  },
  {
   "cell_type": "code",
   "execution_count": null,
   "id": "2a09c7e1",
   "metadata": {},
   "outputs": [],
   "source": []
  }
 ],
 "metadata": {
  "kernelspec": {
   "display_name": "Python 3 (ipykernel)",
   "language": "python",
   "name": "python3"
  },
  "language_info": {
   "codemirror_mode": {
    "name": "ipython",
    "version": 3
   },
   "file_extension": ".py",
   "mimetype": "text/x-python",
   "name": "python",
   "nbconvert_exporter": "python",
   "pygments_lexer": "ipython3",
   "version": "3.10.9"
  }
 },
 "nbformat": 4,
 "nbformat_minor": 5
}
