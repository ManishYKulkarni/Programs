{
 "cells": [
  {
   "cell_type": "code",
   "execution_count": 8,
   "id": "8e62b79b",
   "metadata": {},
   "outputs": [
    {
     "name": "stdout",
     "output_type": "stream",
     "text": [
      "Enter a number5\n",
      "120\n"
     ]
    }
   ],
   "source": [
    "def is_fact(n):\n",
    "    fact=1\n",
    "    for i in range(1,n):\n",
    "        fact=fact*(i+1)\n",
    "        \n",
    "        \n",
    "    print(fact)    \n",
    "    \n",
    "n=int(input(\"Enter a number\")) \n",
    "is_fact(n)"
   ]
  },
  {
   "cell_type": "code",
   "execution_count": null,
   "id": "1ad1e93a",
   "metadata": {},
   "outputs": [],
   "source": []
  }
 ],
 "metadata": {
  "kernelspec": {
   "display_name": "Python 3 (ipykernel)",
   "language": "python",
   "name": "python3"
  },
  "language_info": {
   "codemirror_mode": {
    "name": "ipython",
    "version": 3
   },
   "file_extension": ".py",
   "mimetype": "text/x-python",
   "name": "python",
   "nbconvert_exporter": "python",
   "pygments_lexer": "ipython3",
   "version": "3.10.9"
  }
 },
 "nbformat": 4,
 "nbformat_minor": 5
}
