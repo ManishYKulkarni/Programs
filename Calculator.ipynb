{
 "cells": [
  {
   "cell_type": "code",
   "execution_count": 1,
   "id": "4fec86b8",
   "metadata": {},
   "outputs": [
    {
     "name": "stdout",
     "output_type": "stream",
     "text": [
      "Enter a first number=22\n",
      "Enter a Second number=45\n",
      "1 for Addition\n",
      "2 for Subtraction \n",
      "3 for Multiplication\n",
      "4 for Division\n",
      "Enter a operator=3\n",
      "The multiplication of two number: 990\n"
     ]
    }
   ],
   "source": [
    "A = int(input(\"Enter a first number=\"))\n",
    "B = int(input(\"Enter a Second number=\"))\n",
    "print(\"1 for Addition\\n2 for Subtraction \\n3 for Multiplication\\n4 for Division\")\n",
    "operation=int(input(\"Enter a operator=\"))\n",
    "if(operation == 1):\n",
    "  print(\"The sum of two number:\", A + B)     \n",
    "elif(operation == 2):\n",
    "  print(\"The difference of two number:\", A - B)\n",
    "elif(operation == 3):\n",
    "  print(\"The multiplication of two number:\", A * B)\n",
    "elif(operation == 4): \n",
    "  print(\"The division of two number:\", A / B)\n",
    "else:\n",
    "  print(\"Enter valid operation\")\n"
   ]
  },
  {
   "cell_type": "code",
   "execution_count": null,
   "id": "a62a19de",
   "metadata": {},
   "outputs": [],
   "source": []
  }
 ],
 "metadata": {
  "kernelspec": {
   "display_name": "Python 3 (ipykernel)",
   "language": "python",
   "name": "python3"
  },
  "language_info": {
   "codemirror_mode": {
    "name": "ipython",
    "version": 3
   },
   "file_extension": ".py",
   "mimetype": "text/x-python",
   "name": "python",
   "nbconvert_exporter": "python",
   "pygments_lexer": "ipython3",
   "version": "3.10.9"
  }
 },
 "nbformat": 4,
 "nbformat_minor": 5
}
