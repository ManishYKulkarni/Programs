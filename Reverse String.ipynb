{
 "cells": [
  {
   "cell_type": "code",
   "execution_count": 5,
   "id": "baed7c1a",
   "metadata": {},
   "outputs": [
    {
     "name": "stdout",
     "output_type": "stream",
     "text": [
      "Enter a string=manish\n",
      "hsinam\n"
     ]
    }
   ],
   "source": [
    "def reverse_string(string1):\n",
    "    rev=string1[::-1]\n",
    "    print(rev)\n",
    "    \n",
    "    \n",
    "    \n",
    "    \n",
    "    \n",
    "string1=input(\"Enter a string=\")   \n",
    "reverse_string(string1)"
   ]
  },
  {
   "cell_type": "code",
   "execution_count": null,
   "id": "f2cd4d2f",
   "metadata": {},
   "outputs": [],
   "source": []
  }
 ],
 "metadata": {
  "kernelspec": {
   "display_name": "Python 3 (ipykernel)",
   "language": "python",
   "name": "python3"
  },
  "language_info": {
   "codemirror_mode": {
    "name": "ipython",
    "version": 3
   },
   "file_extension": ".py",
   "mimetype": "text/x-python",
   "name": "python",
   "nbconvert_exporter": "python",
   "pygments_lexer": "ipython3",
   "version": "3.10.9"
  }
 },
 "nbformat": 4,
 "nbformat_minor": 5
}
