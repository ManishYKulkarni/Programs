{
 "cells": [
  {
   "cell_type": "code",
   "execution_count": 1,
   "id": "a2027f62",
   "metadata": {},
   "outputs": [
    {
     "name": "stdout",
     "output_type": "stream",
     "text": [
      "Enter a choice from [rock,paper,scissors]:papper\n",
      "you loose\n"
     ]
    }
   ],
   "source": [
    "import random\n",
    "\n",
    "\n",
    "def play_game(user_choice,computer_choice):\n",
    "    \n",
    "\n",
    "    if (user_choice==computer_choice):\n",
    "        print(\"it is tie\")\n",
    "\n",
    "    elif ((user_choice==\"rock\" and computer_choice==\"scissors\") or (user_choice==\"paper\" and computer_choice==\"stone\") or(user_choice==\"scissore\" and computer_choice==\"paper\")):\n",
    "        print(\"you win\")\n",
    " \n",
    "        \n",
    "    else:\n",
    "        print(\"you loose\")\n",
    "        \n",
    "            \n",
    "        \n",
    "    \n",
    "count=0    \n",
    "choices=[\"rock\",\"paper\",\"scissors\"]    \n",
    "user_choice=input(\"Enter a choice from [rock,paper,scissors]:\").lower()\n",
    "computer_choice=random.choice(choices)\n",
    "\n",
    "    \n",
    "play_game(user_choice,computer_choice)\n",
    "  \n",
    "\n"
   ]
  },
  {
   "cell_type": "code",
   "execution_count": null,
   "id": "869a75be",
   "metadata": {},
   "outputs": [],
   "source": []
  }
 ],
 "metadata": {
  "kernelspec": {
   "display_name": "Python 3 (ipykernel)",
   "language": "python",
   "name": "python3"
  },
  "language_info": {
   "codemirror_mode": {
    "name": "ipython",
    "version": 3
   },
   "file_extension": ".py",
   "mimetype": "text/x-python",
   "name": "python",
   "nbconvert_exporter": "python",
   "pygments_lexer": "ipython3",
   "version": "3.10.9"
  }
 },
 "nbformat": 4,
 "nbformat_minor": 5
}
