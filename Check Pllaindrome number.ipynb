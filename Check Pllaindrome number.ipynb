{
 "cells": [
  {
   "cell_type": "code",
   "execution_count": 12,
   "id": "ac0d958f",
   "metadata": {},
   "outputs": [
    {
     "name": "stdout",
     "output_type": "stream",
     "text": [
      "Enter a number:345\n",
      "it is not pallindrome\n"
     ]
    }
   ],
   "source": [
    "def is_pallindrome(n):\n",
    "    rev=0\n",
    "    r=0\n",
    "    sum=n\n",
    "    while(n>0):\n",
    "        r=n%10\n",
    "        rev=(rev*10)+r\n",
    "        n=n//10\n",
    "    \n",
    "    if(rev==sum):\n",
    "        print(\"it is pallindrome\")\n",
    "    else:\n",
    "        print(\"it is not pallindrome\")\n",
    "\n",
    "        \n",
    "n=int(input(\"Enter a number:\"))\n",
    "is_pallindrome(n)"
   ]
  },
  {
   "cell_type": "code",
   "execution_count": null,
   "id": "5c9647ac",
   "metadata": {},
   "outputs": [],
   "source": []
  },
  {
   "cell_type": "code",
   "execution_count": null,
   "id": "67b917c5",
   "metadata": {},
   "outputs": [],
   "source": []
  }
 ],
 "metadata": {
  "kernelspec": {
   "display_name": "Python 3 (ipykernel)",
   "language": "python",
   "name": "python3"
  },
  "language_info": {
   "codemirror_mode": {
    "name": "ipython",
    "version": 3
   },
   "file_extension": ".py",
   "mimetype": "text/x-python",
   "name": "python",
   "nbconvert_exporter": "python",
   "pygments_lexer": "ipython3",
   "version": "3.10.9"
  }
 },
 "nbformat": 4,
 "nbformat_minor": 5
}
