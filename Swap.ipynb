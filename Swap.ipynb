{
 "cells": [
  {
   "cell_type": "code",
   "execution_count": 4,
   "id": "4edc29b1",
   "metadata": {},
   "outputs": [
    {
     "name": "stdout",
     "output_type": "stream",
     "text": [
      "Enter a number=2\n",
      "Enter a number3\n",
      "before swap 2 3\n",
      "3\n",
      "2\n",
      "after swap 3 2\n"
     ]
    }
   ],
   "source": [
    "def is_swap(a,b):\n",
    "    temp=0\n",
    "    print(\"before swap\",a,b)\n",
    "    temp=a\n",
    "    a=b\n",
    "    b=temp\n",
    "    print(\"\"====================================\")\n",
    "    print(\"after swap\",a,b)\n",
    "    \n",
    "a=int(input(\"Enter a number=\"))\n",
    "b=int(input(\"Enter a number\"))\n",
    "is_swap(a,b)"
   ]
  },
  {
   "cell_type": "code",
   "execution_count": null,
   "id": "1fbe4fe2",
   "metadata": {},
   "outputs": [],
   "source": []
  },
  {
   "cell_type": "code",
   "execution_count": null,
   "id": "11321462",
   "metadata": {},
   "outputs": [],
   "source": []
  }
 ],
 "metadata": {
  "kernelspec": {
   "display_name": "Python 3 (ipykernel)",
   "language": "python",
   "name": "python3"
  },
  "language_info": {
   "codemirror_mode": {
    "name": "ipython",
    "version": 3
   },
   "file_extension": ".py",
   "mimetype": "text/x-python",
   "name": "python",
   "nbconvert_exporter": "python",
   "pygments_lexer": "ipython3",
   "version": "3.10.9"
  }
 },
 "nbformat": 4,
 "nbformat_minor": 5
}
