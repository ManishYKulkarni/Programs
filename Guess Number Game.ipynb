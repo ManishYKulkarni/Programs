{
 "cells": [
  {
   "cell_type": "code",
   "execution_count": null,
   "id": "b15b1423",
   "metadata": {},
   "outputs": [
    {
     "name": "stdout",
     "output_type": "stream",
     "text": [
      "Guess a number between 1 and 100: 4\n",
      "Too high! Try again.\n"
     ]
    }
   ],
   "source": [
    "import random\n",
    "def guess_number():\n",
    "    secret_number=random.randint(1,50)\n",
    "    attempts=0\n",
    "    \n",
    "    \n",
    "    while True:\n",
    "        guess=int(input(\"Guess a number between 1 and 100: \"))\n",
    "        attempts +=1\n",
    "        \n",
    "        if guess<secret_number:\n",
    "            print(\"Too low!Try again.\")\n",
    "        elif guess>secret_number:\n",
    "            print(\"Too high! Try again.\")\n",
    "        else:\n",
    "            print(f\"Congratulations! uoy have guessed the number in {attempts} attempts.\" )\n",
    "            break\n",
    "guess_number()\n",
    "                  \n",
    "            "
   ]
  },
  {
   "cell_type": "code",
   "execution_count": null,
   "id": "6b436966",
   "metadata": {},
   "outputs": [],
   "source": []
  },
  {
   "cell_type": "code",
   "execution_count": null,
   "id": "786bc5ff",
   "metadata": {},
   "outputs": [],
   "source": []
  }
 ],
 "metadata": {
  "kernelspec": {
   "display_name": "Python 3 (ipykernel)",
   "language": "python",
   "name": "python3"
  },
  "language_info": {
   "codemirror_mode": {
    "name": "ipython",
    "version": 3
   },
   "file_extension": ".py",
   "mimetype": "text/x-python",
   "name": "python",
   "nbconvert_exporter": "python",
   "pygments_lexer": "ipython3",
   "version": "3.10.9"
  }
 },
 "nbformat": 4,
 "nbformat_minor": 5
}
