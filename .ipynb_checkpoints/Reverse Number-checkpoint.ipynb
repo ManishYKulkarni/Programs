{
 "cells": [
  {
   "cell_type": "code",
   "execution_count": 6,
   "id": "5d530a58",
   "metadata": {},
   "outputs": [
    {
     "name": "stdout",
     "output_type": "stream",
     "text": [
      "Enter a number:3456\n",
      "6543\n"
     ]
    }
   ],
   "source": [
    "def reverse_num(num):\n",
    "    rev=0\n",
    "    r=0\n",
    "    while(num>0):\n",
    "        r=num%10\n",
    "        rev=(rev*10)+r\n",
    "        num=num//10\n",
    "    print(rev)\n",
    "num=int(input(\"Enter a number:\"))\n",
    "reverse_num(num)"
   ]
  },
  {
   "cell_type": "code",
   "execution_count": null,
   "id": "ea52253c",
   "metadata": {},
   "outputs": [],
   "source": []
  }
 ],
 "metadata": {
  "kernelspec": {
   "display_name": "Python 3 (ipykernel)",
   "language": "python",
   "name": "python3"
  },
  "language_info": {
   "codemirror_mode": {
    "name": "ipython",
    "version": 3
   },
   "file_extension": ".py",
   "mimetype": "text/x-python",
   "name": "python",
   "nbconvert_exporter": "python",
   "pygments_lexer": "ipython3",
   "version": "3.10.9"
  }
 },
 "nbformat": 4,
 "nbformat_minor": 5
}
