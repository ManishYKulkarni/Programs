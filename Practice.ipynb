{
 "cells": [
  {
   "cell_type": "code",
   "execution_count": 7,
   "id": "84fd62e3",
   "metadata": {},
   "outputs": [
    {
     "name": "stdout",
     "output_type": "stream",
     "text": [
      "2\n",
      "1\n",
      "manish\n",
      "3\n",
      "kulkarni\n",
      "2\n",
      "1\n",
      "manish\n",
      "3\n",
      "kulkarni\n"
     ]
    }
   ],
   "source": [
    "l=[2,1,\"manish\",3,\"kulkarni\"]\n",
    "for i in l:\n",
    "    print(i)"
   ]
  },
  {
   "cell_type": "code",
   "execution_count": 8,
   "id": "c5c90510",
   "metadata": {},
   "outputs": [
    {
     "name": "stdout",
     "output_type": "stream",
     "text": [
      "[2, 1, 'manish', 3, 'kulkarni', 'Sneha']\n"
     ]
    }
   ],
   "source": [
    "l.append(\"Sneha\")\n",
    "print(l)"
   ]
  },
  {
   "cell_type": "code",
   "execution_count": 13,
   "id": "83338183",
   "metadata": {},
   "outputs": [
    {
     "name": "stdout",
     "output_type": "stream",
     "text": [
      "[2, 1, 'manish', 3, 'kulkarni', 2, 'Sneha', 2, 2]\n"
     ]
    }
   ],
   "source": [
    "l.insert(7,2)\n",
    "print(l)"
   ]
  },
  {
   "cell_type": "code",
   "execution_count": 14,
   "id": "a68973f1",
   "metadata": {},
   "outputs": [
    {
     "name": "stdout",
     "output_type": "stream",
     "text": [
      "<class 'list'>\n"
     ]
    }
   ],
   "source": [
    "print(type(l))"
   ]
  },
  {
   "cell_type": "code",
   "execution_count": 17,
   "id": "73b23a59",
   "metadata": {},
   "outputs": [
    {
     "name": "stdout",
     "output_type": "stream",
     "text": [
      "False\n",
      "True\n"
     ]
    }
   ],
   "source": [
    "a=[3,4]\n",
    "b=[3,4]\n",
    "print(a is b)\n",
    "print(a==b)"
   ]
  },
  {
   "cell_type": "code",
   "execution_count": 19,
   "id": "546fcd9a",
   "metadata": {},
   "outputs": [
    {
     "name": "stdout",
     "output_type": "stream",
     "text": [
      "the number of books is 1 and books are ['harry']\n"
     ]
    }
   ],
   "source": [
    "class Library:\n",
    "    def __init__(self):\n",
    "        self.books=[]\n",
    "        self.noofbooks=0\n",
    "    def add(self,book):\n",
    "        self.books.append(book)\n",
    "        self.noofbooks=len(self.books)\n",
    "    def show_info(self):\n",
    "        print(f\"the number of books is {self.noofbooks} and books are {self.books}\")\n",
    "a=Library()\n",
    "a.add(\"harry\")\n",
    "a.show_info()\n"
   ]
  },
  {
   "cell_type": "code",
   "execution_count": null,
   "id": "ac319c53",
   "metadata": {},
   "outputs": [],
   "source": []
  },
  {
   "cell_type": "code",
   "execution_count": null,
   "id": "794a4d68",
   "metadata": {},
   "outputs": [],
   "source": []
  }
 ],
 "metadata": {
  "kernelspec": {
   "display_name": "Python 3 (ipykernel)",
   "language": "python",
   "name": "python3"
  },
  "language_info": {
   "codemirror_mode": {
    "name": "ipython",
    "version": 3
   },
   "file_extension": ".py",
   "mimetype": "text/x-python",
   "name": "python",
   "nbconvert_exporter": "python",
   "pygments_lexer": "ipython3",
   "version": "3.10.9"
  }
 },
 "nbformat": 4,
 "nbformat_minor": 5
}
