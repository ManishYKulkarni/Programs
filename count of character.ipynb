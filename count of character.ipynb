{
 "cells": [
  {
   "cell_type": "code",
   "execution_count": 1,
   "id": "3bbc5751",
   "metadata": {},
   "outputs": [
    {
     "name": "stdout",
     "output_type": "stream",
     "text": [
      "Enter a string=agadgadifeiewrnkefrkafdfdfgggg\n",
      "Enter a character to searchg\n",
      "count of character is 6\n"
     ]
    }
   ],
   "source": [
    "def char_count(string1):\n",
    "    count=0\n",
    "    for char in string1:\n",
    "        if char==find_char:\n",
    "            count+=1\n",
    "    print(\"count of character is\",count)\n",
    "    \n",
    "string1=input(\"Enter a string=\")\n",
    "find_char=input(\"Enter a character to search\")\n",
    "char_count(string1)"
   ]
  },
  {
   "cell_type": "code",
   "execution_count": null,
   "id": "635b6e93",
   "metadata": {},
   "outputs": [],
   "source": []
  }
 ],
 "metadata": {
  "kernelspec": {
   "display_name": "Python 3 (ipykernel)",
   "language": "python",
   "name": "python3"
  },
  "language_info": {
   "codemirror_mode": {
    "name": "ipython",
    "version": 3
   },
   "file_extension": ".py",
   "mimetype": "text/x-python",
   "name": "python",
   "nbconvert_exporter": "python",
   "pygments_lexer": "ipython3",
   "version": "3.10.9"
  }
 },
 "nbformat": 4,
 "nbformat_minor": 5
}
