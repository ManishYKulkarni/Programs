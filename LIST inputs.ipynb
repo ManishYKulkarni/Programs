{
 "cells": [
  {
   "cell_type": "code",
   "execution_count": 2,
   "id": "5530ea9f",
   "metadata": {},
   "outputs": [
    {
     "name": "stdout",
     "output_type": "stream",
     "text": [
      "Enter a how many number values5\n",
      "Enter a number:3\n",
      "Enter a number:2\n",
      "Enter a number:3\n",
      "Enter a number:23\n",
      "Enter a number:2\n",
      "[3, 2, 3, 23, 2]\n"
     ]
    }
   ],
   "source": [
    "\n",
    "    \n",
    "my_list=[]\n",
    "\n",
    "n=int(input(\"Enter a how many number values\"))\n",
    "\n",
    "for i in range(n):\n",
    "    num=int(input(\"Enter a number:\"))\n",
    "    my_list.append(num)\n",
    "print(my_list)    \n",
    "\n"
   ]
  },
  {
   "cell_type": "code",
   "execution_count": 3,
   "id": "6c71a46d",
   "metadata": {},
   "outputs": [
    {
     "name": "stdout",
     "output_type": "stream",
     "text": [
      "2\n"
     ]
    }
   ],
   "source": [
    "print(my_list[4])"
   ]
  },
  {
   "cell_type": "code",
   "execution_count": null,
   "id": "377bd700",
   "metadata": {},
   "outputs": [],
   "source": []
  }
 ],
 "metadata": {
  "kernelspec": {
   "display_name": "Python 3 (ipykernel)",
   "language": "python",
   "name": "python3"
  },
  "language_info": {
   "codemirror_mode": {
    "name": "ipython",
    "version": 3
   },
   "file_extension": ".py",
   "mimetype": "text/x-python",
   "name": "python",
   "nbconvert_exporter": "python",
   "pygments_lexer": "ipython3",
   "version": "3.10.9"
  }
 },
 "nbformat": 4,
 "nbformat_minor": 5
}
